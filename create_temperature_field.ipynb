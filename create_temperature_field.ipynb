{
 "cells": [
  {
   "cell_type": "markdown",
   "metadata": {},
   "source": [
    "# Algorithm to try"
   ]
  },
  {
   "cell_type": "markdown",
   "metadata": {
    "collapsed": true
   },
   "source": [
    "1. Get the current node's coordinates, $(x_{n}, y_{n}, z_{n})$.\n",
    "2. If in the NA plate, i.e., $x_{n} > 200$ km and $z_{n} > -(x_{n}-x_{t})\\,\\tan \\delta$, where $x_{t}$ is the $x$ coordinate of the trench, 200 km, and $\\delta$ is the Farallon slab's dip, set a constant age, $t$ = 100 Ma(?)\n",
    "    1. $\\eta = -0.5 \\, z_{n}/\\sqrt{\\kappa \\, t}$ and $T = T_{s} + (T_{m}-T_{s}) \\, \\text{erf}(\\eta)$,\n",
    "    where $\\kappa$ is the heat diffusivity, $T_{s}$ and $T_{m}$ are surface and mantle temperature.\n",
    "3. Else if in or beneath the unsubducted plates, i.e., $x_{n} <= x_{t}$,\n",
    "    1. Compute the shortest distance ($d$) to the ridge axis following the algorithm given below.\n",
    "    2. \\begin{equation}\n",
    "    t = d \\, / \\, (v_{half}^{PAC} \\, \\cos \\alpha ),\n",
    "    \\end{equation}\n",
    "    where $\\alpha$ is the obliquity of the spreading direction with respect to the axis-perpendicular direction.\n",
    "    3. $\\eta = -0.5 \\, z_{n}/\\sqrt{\\kappa \\, t}$ and $T = T_{s} + (T_{m}-T_{s}) \\, \\text{erf}(\\eta)$.\n",
    "4. Else if in or beneath the Farallon slab, i.e., $x_{n} > x_{t}$ and $z_{n} <= -(x_{n}-x_{t})\\,\\tan \\delta$,\n",
    "    1. Get the location on the slab, $(x_{s}, y_{s}, z_{s})$ by equating\n",
    "    \\begin{equation}\n",
    "      z_{s} = -\\tan\\delta \\, (x_{s}-x_{t})\n",
    "    \\end{equation}\n",
    "    and\n",
    "    \\begin{equation}\n",
    "     z_{s} - z_{n} = (x_{s}-x_{n}) /\\tan\\delta,\n",
    "    \\end{equation}\n",
    "    where $x_{n}$ and $z_{n}$ are the $x$ and $z$ coordinates of the current node, $\\delta$ is the slab's dip and $x_{t}$ is the location of the trench, 200 km. Since the node and the slab surface point are on the same $x-z$ plane, $y_{s} = y_{n}$.\n",
    "    Plugging in the first expression into the second, we get\n",
    "    \\begin{equation}\n",
    "      -\\tan\\delta \\, (x_{s}-x_{t}) - z_{n} = (x_{s}-x_{n})/\\tan\\delta\n",
    "    \\end{equation}\n",
    "    This can be simplifed to\n",
    "    \\begin{equation}\n",
    "    \\begin{split}\n",
    "      -\\tan^{2}\\delta \\, (x_{s}-x_{t}) - \\tan\\delta \\, z_{n} &= (x_{s}-x_{n}) \\\\\n",
    "      (1+\\tan^{2}\\delta)\\,x_{s} &= x_{n} - \\tan\\delta \\, z_{n}.\n",
    "    \\end{split}\n",
    "    \\end{equation}\n",
    "    Then, we get\n",
    "    \\begin{equation}\n",
    "      x_{s} = \\frac{ x_{n} - \\tan\\delta \\, z_{n} + \\tan^{2}\\delta \\, x_{t} }{ 1+\\tan^{2}\\delta } \n",
    "    \\end{equation}\n",
    "    $z_{s}$ can be acquired from the first expression above.\n",
    "    2. Compute the distances, $d_{tr}$ from trench to ridge and $d_{st}$ from the projected surface point to trench following the algorithm given below.\n",
    "    3. \\begin{equation}\n",
    "    t = d_{tr} \\, / \\, (v_{half}^{PAC} \\, \\cos \\alpha ) + d_{st} / \\left[ \\cos\\alpha \\, \\cos(\\delta \\cos\\theta) \\, v_{half}^{PAC} \\right]\n",
    "    \\end{equation}\n",
    "    4. $z^{\\prime} = \\sqrt{(x_{n}-x_{s})^{2}+(z_{n}-z_{s})^{2}}$ is used in the error function profile.\n",
    "    5. $\\eta = -z^{\\prime}/\\sqrt{4 \\kappa \\, t}$ and $T = T_{s} + (T_{m}-T_{s}) \\, \\text{erf}(\\eta)$.\n"
   ]
  },
  {
   "cell_type": "markdown",
   "metadata": {},
   "source": [
    "## Computing distances on the surface"
   ]
  },
  {
   "cell_type": "markdown",
   "metadata": {},
   "source": [
    "A line representing the ridge axis and a line perpendicular to it are given as \n",
    "\\begin{equation}\n",
    "\\begin{split}\n",
    " x &= x_{0} - y \\tan \\theta, \\\\\n",
    "(y-y_{n}) &= \\tan\\theta \\, (x - x_{n}).\n",
    "\\end{split}\n",
    "\\end{equation}\n",
    "where $x_{n}$ and $y_{n}$ are the coordinates of the current node point. Other parameters are defined in the figure below.\n",
    "![Figure](./age_calculation_geometry.png)\n",
    "\n",
    "$x$ coordinate of the intersection point ($x_{r}$) is given as\n",
    "\\begin{equation}\n",
    "\\begin{split}\n",
    " x_{r} &= x_{0} - \\tan \\theta \\left( \\tan \\theta \\, (x_{r} - x_{n}) + y_{n} \\right) \\\\\n",
    "&= x_{0} - \\tan^{2} \\theta \\, x_{r} - \\tan \\theta \\, ( -\\tan\\theta \\, x_{n} + y_{n} ). \\\\\n",
    "&\\therefore x_{r} = \\frac{ x_{0} + \\tan\\theta \\, (\\tan\\theta\\,x_{n}-y_{n}) }{ 1 + \\tan^{2} \\theta }\n",
    "\\end{split}\n",
    "\\end{equation}\n",
    "\n",
    "From the expression for the perpendicular line,\n",
    "\\begin{equation}\n",
    " y_{r} = \\tan \\theta \\, (x_{r}-x_{n}) + y_{n}.\n",
    "\\end{equation}\n",
    "\n",
    "Similarly, since the trench location is fixed at $x_{t} = 200 km$, $y_{t}$ is given as\n",
    "\\begin{equation}\n",
    " y_{t} = \\tan \\theta \\, (x_{t}-x_{n}) + y_{n}.\n",
    "\\end{equation}"
   ]
  },
  {
   "cell_type": "code",
   "execution_count": null,
   "metadata": {
    "collapsed": true
   },
   "outputs": [],
   "source": []
  }
 ],
 "metadata": {
  "kernelspec": {
   "display_name": "Python 3",
   "language": "python",
   "name": "python3"
  },
  "language_info": {
   "codemirror_mode": {
    "name": "ipython",
    "version": 3
   },
   "file_extension": ".py",
   "mimetype": "text/x-python",
   "name": "python",
   "nbconvert_exporter": "python",
   "pygments_lexer": "ipython3",
   "version": "3.6.0"
  }
 },
 "nbformat": 4,
 "nbformat_minor": 2
}
